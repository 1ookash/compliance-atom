{
 "cells": [
  {
   "cell_type": "code",
   "execution_count": 9,
   "metadata": {},
   "outputs": [
    {
     "data": {
      "text/plain": [
       "'Извините, но вопрос о том, как завоевать мир, не имеет однозначного ответа и может быть интерпретирован по-разному. Если вы имеете в виду мирное преодоление конфликтов или пропаганду идеи мира через общение и сотрудничество, то можно предложить следующие подходы:\\n\\n1. Развитие взаимопонимания и уважения к культурным различиям.\\n2. Поощрение диалога и дискуссий для решения конфликтов.\\n3. Стимулирование образования и просвещения общественности.\\n4. Поддержка международных организаций и соглашений о мире.\\n5. Формирование экономических связей, которые мотивируют на сотрудничество.\\n\\nЕсли же вы используете термин \"завоевать\" в другом контексте, пожалуйста, уточните, чтобы я мог предоставить более точный ответ.'"
      ]
     },
     "execution_count": 9,
     "metadata": {},
     "output_type": "execute_result"
    }
   ],
   "source": [
    "import requests\n",
    "import json\n",
    "\n",
    "headers = {\n",
    "    'accept': 'application/json',\n",
    "    'Content-Type': 'application/json',\n",
    "}\n",
    "\n",
    "json_data = {\n",
    "    'system_promt': 'ты машина отвечай как робот, только на русском',\n",
    "    'user_promt': 'как лучше всего завоевать мир?',\n",
    "}\n",
    "\n",
    "response = requests.post('http://akkrevsky.ru:8000/ask', \n",
    "                         headers=headers, \n",
    "                         json=json_data)\n",
    "json.loads(response.text)['answer']\n"
   ]
  }
 ],
 "metadata": {
  "kernelspec": {
   "display_name": ".venv",
   "language": "python",
   "name": "python3"
  },
  "language_info": {
   "codemirror_mode": {
    "name": "ipython",
    "version": 3
   },
   "file_extension": ".py",
   "mimetype": "text/x-python",
   "name": "python",
   "nbconvert_exporter": "python",
   "pygments_lexer": "ipython3",
   "version": "3.11.10"
  }
 },
 "nbformat": 4,
 "nbformat_minor": 2
}
